{
 "cells": [
  {
   "cell_type": "code",
   "execution_count": 16,
   "metadata": {},
   "outputs": [],
   "source": [
    "# using https://youtu.be/Kf0q4Tf5M3c?list=PLeo1K3hjS3usILfyvQlvUBokXkHPSve6S\n",
    "book = {}\n",
    "book['Tom']={\n",
    "    'name':'Tom',\n",
    "    'address':'123 Street, GA',\n",
    "    'phone':'518-444-3456'\n",
    "}\n",
    "book['Bob']={\n",
    "    'name':'Bob',\n",
    "    'address':'123 Main St. Kennesaw, GA',\n",
    "    'phone':'770-333-4444'\n",
    "}\n",
    "\n"
   ]
  },
  {
   "cell_type": "code",
   "execution_count": 17,
   "metadata": {},
   "outputs": [
    {
     "name": "stdout",
     "output_type": "stream",
     "text": [
      "{\"Tom\": {\"address\": \"123 Street, GA\", \"phone\": \"518-444-3456\", \"name\": \"Tom\"}, \"Bob\": {\"address\": \"123 Main St. Kennesaw, GA\", \"phone\": \"770-333-4444\", \"name\": \"Bob\"}}\n"
     ]
    }
   ],
   "source": [
    "import json\n",
    "s=json.dumps(book)\n",
    "print (s)"
   ]
  },
  {
   "cell_type": "code",
   "execution_count": 18,
   "metadata": {},
   "outputs": [],
   "source": [
    "with open(\"c://tmp//book.txt\",\"w\")as f:\n",
    "    f.write(s)"
   ]
  },
  {
   "cell_type": "markdown",
   "metadata": {},
   "source": [
    "# String"
   ]
  },
  {
   "cell_type": "code",
   "execution_count": 19,
   "metadata": {},
   "outputs": [
    {
     "data": {
      "text/plain": [
       "'{\"Tom\": {\"address\": \"123 Street, GA\", \"phone\": \"518-444-3456\", \"name\": \"Tom\"}, \"Bob\": {\"address\": \"123 Main St. Kennesaw, GA\", \"phone\": \"770-333-4444\", \"name\": \"Bob\"}}'"
      ]
     },
     "execution_count": 19,
     "metadata": {},
     "output_type": "execute_result"
    }
   ],
   "source": [
    "f=open(\"c://tmp//book.txt\", \"r\")\n",
    "file=f.read()\n",
    "file"
   ]
  },
  {
   "cell_type": "markdown",
   "metadata": {},
   "source": [
    "# Dictionary"
   ]
  },
  {
   "cell_type": "code",
   "execution_count": 20,
   "metadata": {},
   "outputs": [
    {
     "data": {
      "text/plain": [
       "{'Bob': {'address': '123 Main St. Kennesaw, GA',\n",
       "  'name': 'Bob',\n",
       "  'phone': '770-333-4444'},\n",
       " 'Tom': {'address': '123 Street, GA', 'name': 'Tom', 'phone': '518-444-3456'}}"
      ]
     },
     "execution_count": 20,
     "metadata": {},
     "output_type": "execute_result"
    }
   ],
   "source": [
    "book = json.loads(file)\n",
    "book"
   ]
  },
  {
   "cell_type": "code",
   "execution_count": 21,
   "metadata": {},
   "outputs": [
    {
     "data": {
      "text/plain": [
       "dict"
      ]
     },
     "execution_count": 21,
     "metadata": {},
     "output_type": "execute_result"
    }
   ],
   "source": [
    "type (book)"
   ]
  },
  {
   "cell_type": "code",
   "execution_count": 22,
   "metadata": {},
   "outputs": [
    {
     "ename": "KeyError",
     "evalue": "'bob'",
     "output_type": "error",
     "traceback": [
      "\u001b[1;31m---------------------------------------------------------------------------\u001b[0m",
      "\u001b[1;31mKeyError\u001b[0m                                  Traceback (most recent call last)",
      "\u001b[1;32m<ipython-input-22-d5a3c02abf07>\u001b[0m in \u001b[0;36m<module>\u001b[1;34m()\u001b[0m\n\u001b[1;32m----> 1\u001b[1;33m \u001b[0mbook\u001b[0m\u001b[1;33m[\u001b[0m\u001b[1;34m'bob'\u001b[0m\u001b[1;33m]\u001b[0m\u001b[1;33m\u001b[0m\u001b[0m\n\u001b[0m",
      "\u001b[1;31mKeyError\u001b[0m: 'bob'"
     ]
    }
   ],
   "source": [
    "book['bob']"
   ]
  },
  {
   "cell_type": "code",
   "execution_count": null,
   "metadata": {
    "collapsed": true
   },
   "outputs": [],
   "source": []
  }
 ],
 "metadata": {
  "kernelspec": {
   "display_name": "Python 3",
   "language": "python",
   "name": "python3"
  },
  "language_info": {
   "codemirror_mode": {
    "name": "ipython",
    "version": 3
   },
   "file_extension": ".py",
   "mimetype": "text/x-python",
   "name": "python",
   "nbconvert_exporter": "python",
   "pygments_lexer": "ipython3",
   "version": "3.5.4"
  }
 },
 "nbformat": 4,
 "nbformat_minor": 2
}
