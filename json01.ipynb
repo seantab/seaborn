{
 "cells": [
  {
   "cell_type": "code",
   "execution_count": 23,
   "metadata": {
    "collapsed": true
   },
   "outputs": [],
   "source": [
    "# using https://youtu.be/Kf0q4Tf5M3c?list=PLeo1K3hjS3usILfyvQlvUBokXkHPSve6S\n",
    "book = {}\n",
    "book['Tom']={\n",
    "    'name':'Tom',\n",
    "    'address':'123 Street, GA',\n",
    "    'phone':'518-444-3456'\n",
    "}\n",
    "book['Bob']={\n",
    "    'name':'Bob',\n",
    "    'address':'123 Main St. Kennesaw, GA',\n",
    "    'phone':'770-333-4444'\n",
    "}\n",
    "\n"
   ]
  },
  {
   "cell_type": "code",
   "execution_count": 24,
   "metadata": {},
   "outputs": [
    {
     "name": "stdout",
     "output_type": "stream",
     "text": [
      "{\"Tom\": {\"address\": \"123 Street, GA\", \"phone\": \"518-444-3456\", \"name\": \"Tom\"}, \"Bob\": {\"address\": \"123 Main St. Kennesaw, GA\", \"phone\": \"770-333-4444\", \"name\": \"Bob\"}}\n"
     ]
    }
   ],
   "source": [
    "import json\n",
    "s=json.dumps(book)\n",
    "print (s)"
   ]
  },
  {
   "cell_type": "code",
   "execution_count": 25,
   "metadata": {
    "collapsed": true
   },
   "outputs": [],
   "source": [
    "with open(\"c://tmp//book.txt\",\"w\")as f:\n",
    "    f.write(s)"
   ]
  },
  {
   "cell_type": "markdown",
   "metadata": {},
   "source": [
    "# String"
   ]
  },
  {
   "cell_type": "code",
   "execution_count": 26,
   "metadata": {},
   "outputs": [
    {
     "data": {
      "text/plain": [
       "'{\"Tom\": {\"address\": \"123 Street, GA\", \"phone\": \"518-444-3456\", \"name\": \"Tom\"}, \"Bob\": {\"address\": \"123 Main St. Kennesaw, GA\", \"phone\": \"770-333-4444\", \"name\": \"Bob\"}}'"
      ]
     },
     "execution_count": 26,
     "metadata": {},
     "output_type": "execute_result"
    }
   ],
   "source": [
    "f=open(\"c://tmp//book.txt\", \"r\")\n",
    "file=f.read()\n",
    "file"
   ]
  },
  {
   "cell_type": "markdown",
   "metadata": {},
   "source": [
    "# Dictionary"
   ]
  },
  {
   "cell_type": "code",
   "execution_count": 27,
   "metadata": {},
   "outputs": [
    {
     "data": {
      "text/plain": [
       "{'Bob': {'address': '123 Main St. Kennesaw, GA',\n",
       "  'name': 'Bob',\n",
       "  'phone': '770-333-4444'},\n",
       " 'Tom': {'address': '123 Street, GA', 'name': 'Tom', 'phone': '518-444-3456'}}"
      ]
     },
     "execution_count": 27,
     "metadata": {},
     "output_type": "execute_result"
    }
   ],
   "source": [
    "book = json.loads(file)\n",
    "book"
   ]
  },
  {
   "cell_type": "code",
   "execution_count": 28,
   "metadata": {},
   "outputs": [
    {
     "data": {
      "text/plain": [
       "dict"
      ]
     },
     "execution_count": 28,
     "metadata": {},
     "output_type": "execute_result"
    }
   ],
   "source": [
    "type (book)"
   ]
  },
  {
   "cell_type": "code",
   "execution_count": 33,
   "metadata": {},
   "outputs": [
    {
     "data": {
      "text/plain": [
       "'770-333-4444'"
      ]
     },
     "execution_count": 33,
     "metadata": {},
     "output_type": "execute_result"
    }
   ],
   "source": [
    "book['Bob']['phone']"
   ]
  },
  {
   "cell_type": "code",
   "execution_count": 36,
   "metadata": {},
   "outputs": [
    {
     "name": "stdout",
     "output_type": "stream",
     "text": [
      "{'address': '123 Street, GA', 'phone': '518-444-3456', 'name': 'Tom'}\n",
      "{'address': '123 Main St. Kennesaw, GA', 'phone': '770-333-4444', 'name': 'Bob'}\n"
     ]
    }
   ],
   "source": [
    "for person in book:\n",
    "    print (book[person])"
   ]
  },
  {
   "cell_type": "code",
   "execution_count": null,
   "metadata": {
    "collapsed": true
   },
   "outputs": [],
   "source": []
  }
 ],
 "metadata": {
  "kernelspec": {
   "display_name": "Python 3",
   "language": "python",
   "name": "python3"
  },
  "language_info": {
   "codemirror_mode": {
    "name": "ipython",
    "version": 3
   },
   "file_extension": ".py",
   "mimetype": "text/x-python",
   "name": "python",
   "nbconvert_exporter": "python",
   "pygments_lexer": "ipython3",
   "version": "3.5.4"
  }
 },
 "nbformat": 4,
 "nbformat_minor": 2
}
